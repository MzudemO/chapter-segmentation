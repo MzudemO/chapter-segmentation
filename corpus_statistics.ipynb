{
 "cells": [
  {
   "cell_type": "code",
   "execution_count": 17,
   "metadata": {},
   "outputs": [
    {
     "name": "stdout",
     "output_type": "stream",
     "text": [
      "Number of books in corpus: 11783\n"
     ]
    }
   ],
   "source": [
    "import glob\n",
    "\n",
    "books = glob.glob(\"corpus/*.json\")\n",
    "print(f\"Number of books in corpus: {len(books)}\")"
   ]
  },
  {
   "cell_type": "code",
   "execution_count": 27,
   "metadata": {},
   "outputs": [
    {
     "name": "stderr",
     "output_type": "stream",
     "text": [
      "100%|██████████| 11783/11783 [00:11<00:00, 982.71it/s] "
     ]
    },
    {
     "name": "stdout",
     "output_type": "stream",
     "text": [
      "Number of books without a genre: 1437\n"
     ]
    },
    {
     "name": "stderr",
     "output_type": "stream",
     "text": [
      "\n"
     ]
    }
   ],
   "source": [
    "import json\n",
    "from tqdm import tqdm\n",
    "\n",
    "book_stats = []\n",
    "\n",
    "for book in tqdm(books):\n",
    "    with open(book, \"r\", encoding=\"utf8\") as f:\n",
    "        book = json.load(f)\n",
    "\n",
    "        book_stats.append({\n",
    "        \"genres\": book[\"genres\"],\n",
    "        \"path\": book[\"path\"],\n",
    "        \"title\": book[\"title\"],\n",
    "        \"chapters\": [\n",
    "            {\"paragraph_count\": len(c[\"paragraphs\"])} for c in book[\"chapters\"]\n",
    "        ]})\n",
    "\n",
    "no_genre = [b for b in book_stats if b[\"genres\"] == []]\n",
    "print(f\"Number of books without a genre: {len(no_genre)}\")\n"
   ]
  },
  {
   "cell_type": "code",
   "execution_count": 28,
   "metadata": {},
   "outputs": [
    {
     "name": "stdout",
     "output_type": "stream",
     "text": [
      "Number of books without a genre and at least 2 chapters: 1402\n",
      "Number of books without a genre and at least 3 chapters: 1273\n"
     ]
    }
   ],
   "source": [
    "enough_chapters = [b for b in no_genre if len(b[\"chapters\"]) > 1]\n",
    "print(f\"Number of books without a genre and at least 2 chapters: {len(enough_chapters)}\")\n",
    "\n",
    "enough_chapters = [b for b in no_genre if len(b[\"chapters\"]) > 2]\n",
    "print(f\"Number of books without a genre and at least 3 chapters: {len(enough_chapters)}\")"
   ]
  },
  {
   "cell_type": "code",
   "execution_count": 31,
   "metadata": {},
   "outputs": [
    {
     "name": "stdout",
     "output_type": "stream",
     "text": [
      "Chinesische Philosophie https://www.projekt-gutenberg.org/hackmann/chinphil/chinphil.html\n",
      "Der Heiland vom Binsenhofe https://www.projekt-gutenberg.org/schroeer/binsenho/binsenho.html\n",
      "Die Hauptstraße https://www.projekt-gutenberg.org/lewis/hauptstr/hauptstr.html\n",
      "Wilhelm Hertz https://www.projekt-gutenberg.org/weltrich/hertz/hertz.html\n",
      "Robin, der Rothe. Band I https://www.projekt-gutenberg.org/scott/robinro1/robinro1.html\n",
      "Ueber die vierfache Wurzel des Satzes vom zureichenden Grunde https://www.projekt-gutenberg.org/schopenh/4wurzel/4wurzel.html\n",
      "Aus der Franzosenzeit https://www.projekt-gutenberg.org/schueckg/gesno2-4/gesno2-4.html\n",
      "Der Hauptmann von Köpenick https://www.projekt-gutenberg.org/schaefer/hauptman/hauptman.html\n",
      "Der Pirat. Zweiter Band https://www.projekt-gutenberg.org/scott/derpira2/derpira2.html\n",
      "Menschlichkeiten https://www.projekt-gutenberg.org/poppenbe/menschli/menschli.html\n",
      "Die Geschichte der Bürgerkriege von Granada. Band II https://www.projekt-gutenberg.org/perezdeh/granada2/granada2.html\n",
      "Zwischen den Rassen https://www.projekt-gutenberg.org/mannh/zwrassen/zwrassen.html\n",
      "Cabanis. Teil II https://www.projekt-gutenberg.org/alexis/cabanis2/cabanis2.html\n",
      "Was Michel Schneidewind als Junge erlebte https://www.projekt-gutenberg.org/niese/schneide/schneide.html\n",
      "Die Freiherren von Falkenburg https://www.projekt-gutenberg.org/temme/falkenbu/falkenbu.html\n",
      "Frauensieg https://www.projekt-gutenberg.org/hamsun/frauensi/frauensi.html\n",
      "Ramary und Kétaka https://www.projekt-gutenberg.org/mille/ramary/ramary.html\n",
      "Der graue Herr https://www.projekt-gutenberg.org/stratz/grauherr/grauherr.html\n",
      "Die Aßmanns https://www.projekt-gutenberg.org/courthsm/assmanns/assmanns.html\n",
      "Der Pessimist. Zweiter Band https://www.projekt-gutenberg.org/mathies/pessimi2/pessimi2.html\n"
     ]
    }
   ],
   "source": [
    "for b in enough_chapters[100:120]:\n",
    "    print(b[\"title\"], b[\"path\"])"
   ]
  }
 ],
 "metadata": {
  "kernelspec": {
   "display_name": "msc-thesis",
   "language": "python",
   "name": "python3"
  },
  "language_info": {
   "codemirror_mode": {
    "name": "ipython",
    "version": 3
   },
   "file_extension": ".py",
   "mimetype": "text/x-python",
   "name": "python",
   "nbconvert_exporter": "python",
   "pygments_lexer": "ipython3",
   "version": "3.8.13"
  }
 },
 "nbformat": 4,
 "nbformat_minor": 2
}
