{
 "cells": [
  {
   "cell_type": "code",
   "execution_count": 23,
   "metadata": {},
   "outputs": [],
   "source": [
    "import json\n",
    "import pandas as pd\n",
    "import os\n",
    "from tqdm import tqdm\n",
    "import matplotlib.pyplot as plt"
   ]
  },
  {
   "cell_type": "code",
   "execution_count": 24,
   "metadata": {},
   "outputs": [
    {
     "data": {
      "text/html": [
       "<div>\n",
       "<style scoped>\n",
       "    .dataframe tbody tr th:only-of-type {\n",
       "        vertical-align: middle;\n",
       "    }\n",
       "\n",
       "    .dataframe tbody tr th {\n",
       "        vertical-align: top;\n",
       "    }\n",
       "\n",
       "    .dataframe thead th {\n",
       "        text-align: right;\n",
       "    }\n",
       "</style>\n",
       "<table border=\"1\" class=\"dataframe\">\n",
       "  <thead>\n",
       "    <tr style=\"text-align: right;\">\n",
       "      <th></th>\n",
       "      <th>word_count</th>\n",
       "      <th>sentence_count</th>\n",
       "      <th>paragraph_count</th>\n",
       "      <th>chapter_count</th>\n",
       "      <th>book</th>\n",
       "    </tr>\n",
       "  </thead>\n",
       "  <tbody>\n",
       "    <tr>\n",
       "      <th>0</th>\n",
       "      <td>1011</td>\n",
       "      <td>36</td>\n",
       "      <td>15</td>\n",
       "      <td>5</td>\n",
       "      <td>abraham/fabeln/fabeln.html</td>\n",
       "    </tr>\n",
       "    <tr>\n",
       "      <th>0</th>\n",
       "      <td>21003</td>\n",
       "      <td>634</td>\n",
       "      <td>117</td>\n",
       "      <td>55</td>\n",
       "      <td>abraham/fabparab/fabparab.html</td>\n",
       "    </tr>\n",
       "    <tr>\n",
       "      <th>0</th>\n",
       "      <td>9302</td>\n",
       "      <td>406</td>\n",
       "      <td>82</td>\n",
       "      <td>19</td>\n",
       "      <td>abraham/misc/misc.html</td>\n",
       "    </tr>\n",
       "    <tr>\n",
       "      <th>0</th>\n",
       "      <td>13506</td>\n",
       "      <td>391</td>\n",
       "      <td>80</td>\n",
       "      <td>12</td>\n",
       "      <td>abraham/narrnest/narrnest.html</td>\n",
       "    </tr>\n",
       "    <tr>\n",
       "      <th>0</th>\n",
       "      <td>147207</td>\n",
       "      <td>6325</td>\n",
       "      <td>1716</td>\n",
       "      <td>68</td>\n",
       "      <td>achleitn/bergen/bergen.html</td>\n",
       "    </tr>\n",
       "  </tbody>\n",
       "</table>\n",
       "</div>"
      ],
      "text/plain": [
       "   word_count  sentence_count  paragraph_count  chapter_count  \\\n",
       "0        1011              36               15              5   \n",
       "0       21003             634              117             55   \n",
       "0        9302             406               82             19   \n",
       "0       13506             391               80             12   \n",
       "0      147207            6325             1716             68   \n",
       "\n",
       "                             book  \n",
       "0      abraham/fabeln/fabeln.html  \n",
       "0  abraham/fabparab/fabparab.html  \n",
       "0          abraham/misc/misc.html  \n",
       "0  abraham/narrnest/narrnest.html  \n",
       "0     achleitn/bergen/bergen.html  "
      ]
     },
     "execution_count": 24,
     "metadata": {},
     "output_type": "execute_result"
    }
   ],
   "source": [
    "df = pd.read_pickle(\"per_chapter_train_split_stats.pkl\")\n",
    "df = df[[\"word_count\", \"sentence_count\", \"paragraph_count\", \"chapter_count\", \"book\"]]\n",
    "df.head()"
   ]
  },
  {
   "cell_type": "code",
   "execution_count": 25,
   "metadata": {},
   "outputs": [],
   "source": [
    "def book_to_filename(string: str) -> str:\n",
    "    author, book, _ = tuple(string.split(\"/\"))\n",
    "    return f\"{author}_{book}.json\"\n",
    "\n",
    "novels = []\n",
    "for book in df[\"book\"]:\n",
    "    with open(f\"../corpus/{book_to_filename(book)}\", \"r\") as f:\n",
    "        genre = json.load(f)[\"genre\"]\n",
    "    if genre == \"Romane, Novellen und Erzählungen\":\n",
    "        novels.append(book)\n",
    "\n",
    "# df = df[df[\"book\"].isin(novels)]\n"
   ]
  },
  {
   "cell_type": "code",
   "execution_count": 26,
   "metadata": {},
   "outputs": [
    {
     "data": {
      "image/png": "[encoded data removed]",
      "text/plain": [
       "<Figure size 432x288 with 1 Axes>"
      ]
     },
     "metadata": {
      "needs_background": "light"
     },
     "output_type": "display_data"
    }
   ],
   "source": [
    "df.plot.scatter(x=\"word_count\", y=\"chapter_count\")\n",
    "plt.show()"
   ]
  },
  {
   "cell_type": "code",
   "execution_count": 27,
   "metadata": {},
   "outputs": [
    {
     "data": {
      "image/png": "[encoded data removed]",
      "text/plain": [
       "<Figure size 432x288 with 1 Axes>"
      ]
     },
     "metadata": {
      "needs_background": "light"
     },
     "output_type": "display_data"
    }
   ],
   "source": [
    "df.plot.scatter(x=\"sentence_count\", y=\"chapter_count\")\n",
    "plt.show()"
   ]
  },
  {
   "cell_type": "code",
   "execution_count": 28,
   "metadata": {},
   "outputs": [
    {
     "data": {
      "image/png": "[encoded data removed]",
      "text/plain": [
       "<Figure size 432x288 with 1 Axes>"
      ]
     },
     "metadata": {
      "needs_background": "light"
     },
     "output_type": "display_data"
    }
   ],
   "source": [
    "df.plot.scatter(x=\"paragraph_count\", y=\"chapter_count\")\n",
    "plt.show()"
   ]
  },
  {
   "cell_type": "code",
   "execution_count": 29,
   "metadata": {},
   "outputs": [
    {
     "data": {
      "text/html": [
       "<div>\n",
       "<style scoped>\n",
       "    .dataframe tbody tr th:only-of-type {\n",
       "        vertical-align: middle;\n",
       "    }\n",
       "\n",
       "    .dataframe tbody tr th {\n",
       "        vertical-align: top;\n",
       "    }\n",
       "\n",
       "    .dataframe thead th {\n",
       "        text-align: right;\n",
       "    }\n",
       "</style>\n",
       "<table border=\"1\" class=\"dataframe\">\n",
       "  <thead>\n",
       "    <tr style=\"text-align: right;\">\n",
       "      <th></th>\n",
       "      <th>word_count</th>\n",
       "      <th>sentence_count</th>\n",
       "      <th>paragraph_count</th>\n",
       "      <th>chapter_count</th>\n",
       "    </tr>\n",
       "  </thead>\n",
       "  <tbody>\n",
       "    <tr>\n",
       "      <th>word_count</th>\n",
       "      <td>1.000000</td>\n",
       "      <td>0.911290</td>\n",
       "      <td>0.775232</td>\n",
       "      <td>0.452330</td>\n",
       "    </tr>\n",
       "    <tr>\n",
       "      <th>sentence_count</th>\n",
       "      <td>0.911290</td>\n",
       "      <td>1.000000</td>\n",
       "      <td>0.883038</td>\n",
       "      <td>0.435450</td>\n",
       "    </tr>\n",
       "    <tr>\n",
       "      <th>paragraph_count</th>\n",
       "      <td>0.775232</td>\n",
       "      <td>0.883038</td>\n",
       "      <td>1.000000</td>\n",
       "      <td>0.394247</td>\n",
       "    </tr>\n",
       "    <tr>\n",
       "      <th>chapter_count</th>\n",
       "      <td>0.452330</td>\n",
       "      <td>0.435450</td>\n",
       "      <td>0.394247</td>\n",
       "      <td>1.000000</td>\n",
       "    </tr>\n",
       "  </tbody>\n",
       "</table>\n",
       "</div>"
      ],
      "text/plain": [
       "                 word_count  sentence_count  paragraph_count  chapter_count\n",
       "word_count         1.000000        0.911290         0.775232       0.452330\n",
       "sentence_count     0.911290        1.000000         0.883038       0.435450\n",
       "paragraph_count    0.775232        0.883038         1.000000       0.394247\n",
       "chapter_count      0.452330        0.435450         0.394247       1.000000"
      ]
     },
     "execution_count": 29,
     "metadata": {},
     "output_type": "execute_result"
    }
   ],
   "source": [
    "df.corr(method=\"spearman\")"
   ]
  },
  {
   "cell_type": "code",
   "execution_count": 30,
   "metadata": {},
   "outputs": [],
   "source": [
    "from sklearn import linear_model\n",
    "from sklearn.model_selection import train_test_split\n",
    "from sklearn.metrics import mean_squared_error, mean_absolute_error\n",
    "import numpy as np\n",
    "\n",
    "\n",
    "def regress_and_plot(df, column):\n",
    "    x = np.array(df[column]).reshape(-1, 1)\n",
    "    y = np.array(df[\"chapter_count\"]).reshape(-1, 1)\n",
    "    x_train, x_test, y_train, y_test = train_test_split(\n",
    "        x, y, test_size=0.2, shuffle=True, random_state=6948050\n",
    "    )\n",
    "    # fit\n",
    "    model = linear_model.LinearRegression(fit_intercept=True)\n",
    "    model.fit(x_train, y_train)\n",
    "    # predict\n",
    "    y_pred = model.predict(x_test)\n",
    "    print(y_pred[:5])\n",
    "\n",
    "    print(\n",
    "        \"RMSE:\",\n",
    "        round(mean_squared_error(y_true=y_test, y_pred=y_pred, squared=False), 2),\n",
    "         \"MSE:\",\n",
    "        round(mean_squared_error(y_true=y_test, y_pred=y_pred, squared=True), 2),\n",
    "        \"MAE:\",\n",
    "        round(mean_absolute_error(y_true=y_test, y_pred=y_pred), 3),\n",
    "        \"R2:\",\n",
    "        model.score(x_test, y_test),\n",
    "    )\n",
    "\n",
    "    plt.scatter(x_test, y_test, color=\"black\")\n",
    "    plt.plot(x_test, y_pred, color=\"blue\")\n",
    "    plt.xlabel(column)\n",
    "    plt.ylabel(\"chapter_count\")\n",
    "    plt.show()"
   ]
  },
  {
   "cell_type": "code",
   "execution_count": 31,
   "metadata": {},
   "outputs": [
    {
     "name": "stdout",
     "output_type": "stream",
     "text": [
      "[[13.54404458]\n",
      " [14.80877283]\n",
      " [16.54667837]\n",
      " [29.81787929]\n",
      " [38.91921877]]\n",
      "RMSE: 29.92 MSE: 895.03 MAE: 15.264 R2: 0.14368837443217408\n"
     ]
    },
    {
     "data": {
      "image/png": "[encoded data removed]",
      "text/plain": [
       "<Figure size 432x288 with 1 Axes>"
      ]
     },
     "metadata": {
      "needs_background": "light"
     },
     "output_type": "display_data"
    },
    {
     "name": "stdout",
     "output_type": "stream",
     "text": [
      "[[17.87373362]\n",
      " [18.09500696]\n",
      " [21.33931053]\n",
      " [27.41030319]\n",
      " [28.60704917]]\n",
      "RMSE: 30.49 MSE: 929.35 MAE: 15.81 R2: 0.11085107390009241\n"
     ]
    },
    {
     "data": {
      "image/png": "[encoded data removed]",
      "text/plain": [
       "<Figure size 432x288 with 1 Axes>"
      ]
     },
     "metadata": {
      "needs_background": "light"
     },
     "output_type": "display_data"
    },
    {
     "name": "stdout",
     "output_type": "stream",
     "text": [
      "[[22.16628786]\n",
      " [22.55281849]\n",
      " [25.19618926]\n",
      " [27.81462257]\n",
      " [23.23236428]]\n",
      "RMSE: 31.2 MSE: 973.68 MAE: 16.359 R2: 0.068442909363431\n"
     ]
    },
    {
     "data": {
      "image/png": "[encoded data removed]",
      "text/plain": [
       "<Figure size 432x288 with 1 Axes>"
      ]
     },
     "metadata": {
      "needs_background": "light"
     },
     "output_type": "display_data"
    }
   ],
   "source": [
    "regress_and_plot(df, \"word_count\")\n",
    "regress_and_plot(df, \"sentence_count\")\n",
    "regress_and_plot(df, \"paragraph_count\")"
   ]
  },
  {
   "cell_type": "code",
   "execution_count": 32,
   "metadata": {},
   "outputs": [
    {
     "name": "stdout",
     "output_type": "stream",
     "text": [
      "Word Count, Sentence Count, Paragraph Count\n",
      "[[ 0.00031836 -0.00154716 -0.00205627]]\n",
      "[8.19649604]\n",
      "[[12.23776967]\n",
      " [13.88355543]\n",
      " [13.98876654]\n",
      " [29.87147794]\n",
      " [44.34020187]\n",
      " [45.19986931]\n",
      " [20.68682055]\n",
      " [22.72766108]\n",
      " [29.49792764]\n",
      " [24.18492248]]\n",
      "RMSE: 30.05 MSE: 903.03 MAE: 15.42 R2: 0.13603323763099406\n"
     ]
    }
   ],
   "source": [
    "# multiple linear regression\n",
    "\n",
    "from sklearn import linear_model\n",
    "from sklearn.model_selection import train_test_split\n",
    "from sklearn.metrics import mean_squared_error\n",
    "import numpy as np\n",
    "\n",
    "x = zip(df[\"word_count\"], df[\"sentence_count\"], df[\"paragraph_count\"])\n",
    "x = np.array(list(x))\n",
    "y = np.array(df[\"chapter_count\"]).reshape(-1, 1)\n",
    "x_train, x_test, y_train, y_test = train_test_split(\n",
    "    x, y, test_size=0.2, shuffle=True, random_state=6948050\n",
    ")\n",
    "# fit\n",
    "model = linear_model.LinearRegression(fit_intercept=True)\n",
    "model.fit(x_train, y_train)\n",
    "print(\"Word Count, Sentence Count, Paragraph Count\")\n",
    "print(model.coef_)\n",
    "print(model.intercept_)\n",
    "# predict\n",
    "y_pred = model.predict(x_test)\n",
    "print(y_pred[:10])\n",
    "\n",
    "print(\n",
    "        \"RMSE:\",\n",
    "        round(mean_squared_error(y_true=y_test, y_pred=y_pred, squared=False), 2),\n",
    "         \"MSE:\",\n",
    "        round(mean_squared_error(y_true=y_test, y_pred=y_pred, squared=True), 2),\n",
    "        \"MAE:\",\n",
    "        round(mean_absolute_error(y_true=y_test, y_pred=y_pred), 3),\n",
    "        \"R2:\",\n",
    "        model.score(x_test, y_test),\n",
    "    )"
   ]
  },
  {
   "cell_type": "code",
   "execution_count": 33,
   "metadata": {},
   "outputs": [],
   "source": [
    "pred_df = pd.read_pickle(\"../results/predictions_finetuned_2e-5_bs32_e3_best.pkl\")"
   ]
  },
  {
   "cell_type": "code",
   "execution_count": 34,
   "metadata": {},
   "outputs": [
    {
     "data": {
      "text/html": [
       "<div>\n",
       "<style scoped>\n",
       "    .dataframe tbody tr th:only-of-type {\n",
       "        vertical-align: middle;\n",
       "    }\n",
       "\n",
       "    .dataframe tbody tr th {\n",
       "        vertical-align: top;\n",
       "    }\n",
       "\n",
       "    .dataframe thead th {\n",
       "        text-align: right;\n",
       "    }\n",
       "</style>\n",
       "<table border=\"1\" class=\"dataframe\">\n",
       "  <thead>\n",
       "    <tr style=\"text-align: right;\">\n",
       "      <th></th>\n",
       "      <th>book_path</th>\n",
       "      <th>chapter_count</th>\n",
       "      <th>maxima_count</th>\n",
       "      <th>candidate_count</th>\n",
       "      <th>log_candidate_count</th>\n",
       "    </tr>\n",
       "  </thead>\n",
       "  <tbody>\n",
       "    <tr>\n",
       "      <th>0</th>\n",
       "      <td>about_bergkoen.json</td>\n",
       "      <td>9</td>\n",
       "      <td>321</td>\n",
       "      <td>110</td>\n",
       "      <td>1058</td>\n",
       "    </tr>\n",
       "    <tr>\n",
       "      <th>1</th>\n",
       "      <td>about_parisehe.json</td>\n",
       "      <td>12</td>\n",
       "      <td>372</td>\n",
       "      <td>104</td>\n",
       "      <td>1286</td>\n",
       "    </tr>\n",
       "    <tr>\n",
       "      <th>2</th>\n",
       "      <td>abraham_fabeln.json</td>\n",
       "      <td>4</td>\n",
       "      <td>4</td>\n",
       "      <td>7</td>\n",
       "      <td>14</td>\n",
       "    </tr>\n",
       "    <tr>\n",
       "      <th>3</th>\n",
       "      <td>abraham_narrnest.json</td>\n",
       "      <td>11</td>\n",
       "      <td>23</td>\n",
       "      <td>45</td>\n",
       "      <td>79</td>\n",
       "    </tr>\n",
       "    <tr>\n",
       "      <th>4</th>\n",
       "      <td>achleitn_bezirks1.json</td>\n",
       "      <td>4</td>\n",
       "      <td>335</td>\n",
       "      <td>68</td>\n",
       "      <td>1170</td>\n",
       "    </tr>\n",
       "  </tbody>\n",
       "</table>\n",
       "</div>"
      ],
      "text/plain": [
       "                book_path  chapter_count  maxima_count  candidate_count  \\\n",
       "0     about_bergkoen.json              9           321              110   \n",
       "1     about_parisehe.json             12           372              104   \n",
       "2     abraham_fabeln.json              4             4                7   \n",
       "3   abraham_narrnest.json             11            23               45   \n",
       "4  achleitn_bezirks1.json              4           335               68   \n",
       "\n",
       "   log_candidate_count  \n",
       "0                 1058  \n",
       "1                 1286  \n",
       "2                   14  \n",
       "3                   79  \n",
       "4                 1170  "
      ]
     },
     "execution_count": 34,
     "metadata": {},
     "output_type": "execute_result"
    }
   ],
   "source": [
    "from scipy.signal import argrelmin, find_peaks, argrelmax\n",
    "import math\n",
    "\n",
    "maxima_stats = []\n",
    "for name, group in pred_df.groupby([\"book_path\"]):\n",
    "    chapter_count = group[\"chapter_idx\"].max()\n",
    "    confidences = np.array(group[\"logit_0\"])\n",
    "    maxima = argrelmax(confidences)[0]\n",
    "    candidates = group[group[\"logit_0\"] > group[\"logit_1\"]]\n",
    "    normalized_logit_0 = (group[\"logit_0\"] - group[\"logit_0\"].min())/(group[\"logit_0\"].max() - group[\"logit_0\"].min())\n",
    "    log_confidence = [-math.log(1 - l + 1e-10) for l in normalized_logit_0]\n",
    "    log_threshold_candidates = [c > 0.99 for c in log_confidence]\n",
    "    maxima_stats.append(\n",
    "        {\n",
    "            \"book_path\": name,\n",
    "            \"chapter_count\": chapter_count,\n",
    "            \"maxima_count\": len(maxima),\n",
    "            \"candidate_count\": len(candidates),\n",
    "            \"log_candidate_count\": len(log_threshold_candidates)\n",
    "        }\n",
    "    )\n",
    "\n",
    "maxima_df = pd.DataFrame(maxima_stats)\n",
    "maxima_df.head()"
   ]
  },
  {
   "cell_type": "code",
   "execution_count": 35,
   "metadata": {},
   "outputs": [],
   "source": [
    "novels = []\n",
    "for book in maxima_df[\"book_path\"]:\n",
    "    with open(f\"../corpus/{book}\", \"r\") as f:\n",
    "        genre = json.load(f)[\"genre\"]\n",
    "    if genre == \"Romane, Novellen und Erzählungen\":\n",
    "        novels.append(book)\n",
    "\n",
    "# maxima_df = maxima_df[maxima_df[\"book_path\"].isin(novels)]"
   ]
  },
  {
   "cell_type": "code",
   "execution_count": 36,
   "metadata": {},
   "outputs": [
    {
     "data": {
      "text/html": [
       "<div>\n",
       "<style scoped>\n",
       "    .dataframe tbody tr th:only-of-type {\n",
       "        vertical-align: middle;\n",
       "    }\n",
       "\n",
       "    .dataframe tbody tr th {\n",
       "        vertical-align: top;\n",
       "    }\n",
       "\n",
       "    .dataframe thead th {\n",
       "        text-align: right;\n",
       "    }\n",
       "</style>\n",
       "<table border=\"1\" class=\"dataframe\">\n",
       "  <thead>\n",
       "    <tr style=\"text-align: right;\">\n",
       "      <th></th>\n",
       "      <th>book_path</th>\n",
       "      <th>chapter_count</th>\n",
       "      <th>maxima_count</th>\n",
       "      <th>candidate_count</th>\n",
       "      <th>log_candidate_count</th>\n",
       "    </tr>\n",
       "  </thead>\n",
       "  <tbody>\n",
       "    <tr>\n",
       "      <th>878</th>\n",
       "      <td>schoeppn_bysagen.json</td>\n",
       "      <td>1345</td>\n",
       "      <td>1231</td>\n",
       "      <td>1973</td>\n",
       "      <td>4058</td>\n",
       "    </tr>\n",
       "    <tr>\n",
       "      <th>618</th>\n",
       "      <td>lespinas_briefe.json</td>\n",
       "      <td>226</td>\n",
       "      <td>663</td>\n",
       "      <td>662</td>\n",
       "      <td>2079</td>\n",
       "    </tr>\n",
       "    <tr>\n",
       "      <th>868</th>\n",
       "      <td>schmid_erzjugen.json</td>\n",
       "      <td>202</td>\n",
       "      <td>113</td>\n",
       "      <td>219</td>\n",
       "      <td>325</td>\n",
       "    </tr>\n",
       "    <tr>\n",
       "      <th>385</th>\n",
       "      <td>grimm_maerchen.json</td>\n",
       "      <td>198</td>\n",
       "      <td>663</td>\n",
       "      <td>492</td>\n",
       "      <td>2149</td>\n",
       "    </tr>\n",
       "    <tr>\n",
       "      <th>437</th>\n",
       "      <td>hebel_hausfreu.json</td>\n",
       "      <td>190</td>\n",
       "      <td>161</td>\n",
       "      <td>258</td>\n",
       "      <td>514</td>\n",
       "    </tr>\n",
       "  </tbody>\n",
       "</table>\n",
       "</div>"
      ],
      "text/plain": [
       "                 book_path  chapter_count  maxima_count  candidate_count  \\\n",
       "878  schoeppn_bysagen.json           1345          1231             1973   \n",
       "618   lespinas_briefe.json            226           663              662   \n",
       "868   schmid_erzjugen.json            202           113              219   \n",
       "385    grimm_maerchen.json            198           663              492   \n",
       "437    hebel_hausfreu.json            190           161              258   \n",
       "\n",
       "     log_candidate_count  \n",
       "878                 4058  \n",
       "618                 2079  \n",
       "868                  325  \n",
       "385                 2149  \n",
       "437                  514  "
      ]
     },
     "execution_count": 36,
     "metadata": {},
     "output_type": "execute_result"
    }
   ],
   "source": [
    "maxima_df.sort_values(by=\"chapter_count\", ascending=False).head()"
   ]
  },
  {
   "cell_type": "code",
   "execution_count": 37,
   "metadata": {},
   "outputs": [],
   "source": [
    "maxima_df = maxima_df[maxima_df[\"book_path\"] != \"schoeppn_bysagen.json\"]"
   ]
  },
  {
   "cell_type": "code",
   "execution_count": 38,
   "metadata": {},
   "outputs": [
    {
     "data": {
      "image/png": "[encoded data removed]",
      "text/plain": [
       "<Figure size 432x288 with 1 Axes>"
      ]
     },
     "metadata": {
      "needs_background": "light"
     },
     "output_type": "display_data"
    }
   ],
   "source": [
    "maxima_df.plot.scatter(x=\"maxima_count\", y=\"chapter_count\")\n",
    "plt.show()"
   ]
  },
  {
   "cell_type": "code",
   "execution_count": 39,
   "metadata": {},
   "outputs": [
    {
     "data": {
      "image/png": "[encoded data removed]",
      "text/plain": [
       "<Figure size 432x288 with 1 Axes>"
      ]
     },
     "metadata": {
      "needs_background": "light"
     },
     "output_type": "display_data"
    }
   ],
   "source": [
    "maxima_df.plot.scatter(x=\"candidate_count\", y=\"chapter_count\")\n",
    "plt.show()"
   ]
  },
  {
   "cell_type": "code",
   "execution_count": 40,
   "metadata": {},
   "outputs": [
    {
     "data": {
      "image/png": "[encoded data removed]",
      "text/plain": [
       "<Figure size 432x288 with 1 Axes>"
      ]
     },
     "metadata": {
      "needs_background": "light"
     },
     "output_type": "display_data"
    }
   ],
   "source": [
    "maxima_df.plot.scatter(x=\"log_candidate_count\", y=\"chapter_count\")\n",
    "plt.show()"
   ]
  },
  {
   "cell_type": "code",
   "execution_count": 41,
   "metadata": {},
   "outputs": [
    {
     "data": {
      "text/html": [
       "<div>\n",
       "<style scoped>\n",
       "    .dataframe tbody tr th:only-of-type {\n",
       "        vertical-align: middle;\n",
       "    }\n",
       "\n",
       "    .dataframe tbody tr th {\n",
       "        vertical-align: top;\n",
       "    }\n",
       "\n",
       "    .dataframe thead th {\n",
       "        text-align: right;\n",
       "    }\n",
       "</style>\n",
       "<table border=\"1\" class=\"dataframe\">\n",
       "  <thead>\n",
       "    <tr style=\"text-align: right;\">\n",
       "      <th></th>\n",
       "      <th>maxima_count</th>\n",
       "      <th>candidate_count</th>\n",
       "      <th>log_candidate_count</th>\n",
       "      <th>chapter_count</th>\n",
       "    </tr>\n",
       "  </thead>\n",
       "  <tbody>\n",
       "    <tr>\n",
       "      <th>maxima_count</th>\n",
       "      <td>1.000000</td>\n",
       "      <td>0.726252</td>\n",
       "      <td>0.998886</td>\n",
       "      <td>0.440371</td>\n",
       "    </tr>\n",
       "    <tr>\n",
       "      <th>candidate_count</th>\n",
       "      <td>0.726252</td>\n",
       "      <td>1.000000</td>\n",
       "      <td>0.720336</td>\n",
       "      <td>0.596316</td>\n",
       "    </tr>\n",
       "    <tr>\n",
       "      <th>log_candidate_count</th>\n",
       "      <td>0.998886</td>\n",
       "      <td>0.720336</td>\n",
       "      <td>1.000000</td>\n",
       "      <td>0.434833</td>\n",
       "    </tr>\n",
       "    <tr>\n",
       "      <th>chapter_count</th>\n",
       "      <td>0.440371</td>\n",
       "      <td>0.596316</td>\n",
       "      <td>0.434833</td>\n",
       "      <td>1.000000</td>\n",
       "    </tr>\n",
       "  </tbody>\n",
       "</table>\n",
       "</div>"
      ],
      "text/plain": [
       "                     maxima_count  candidate_count  log_candidate_count  \\\n",
       "maxima_count             1.000000         0.726252             0.998886   \n",
       "candidate_count          0.726252         1.000000             0.720336   \n",
       "log_candidate_count      0.998886         0.720336             1.000000   \n",
       "chapter_count            0.440371         0.596316             0.434833   \n",
       "\n",
       "                     chapter_count  \n",
       "maxima_count              0.440371  \n",
       "candidate_count           0.596316  \n",
       "log_candidate_count       0.434833  \n",
       "chapter_count             1.000000  "
      ]
     },
     "execution_count": 41,
     "metadata": {},
     "output_type": "execute_result"
    }
   ],
   "source": [
    "maxima_df[[\"maxima_count\", \"candidate_count\", \"log_candidate_count\", \"chapter_count\"]].corr(method=\"spearman\")"
   ]
  },
  {
   "cell_type": "code",
   "execution_count": 42,
   "metadata": {},
   "outputs": [
    {
     "name": "stdout",
     "output_type": "stream",
     "text": [
      "[[24.18333503]\n",
      " [21.78177788]\n",
      " [17.55368431]\n",
      " [22.25532436]\n",
      " [20.20892707]]\n",
      "RMSE: 23.59 MSE: 556.41 MAE: 13.29 R2: 0.09957711572028527\n"
     ]
    },
    {
     "data": {
      "image/png": "[encoded data removed]",
      "text/plain": [
       "<Figure size 432x288 with 1 Axes>"
      ]
     },
     "metadata": {
      "needs_background": "light"
     },
     "output_type": "display_data"
    },
    {
     "name": "stdout",
     "output_type": "stream",
     "text": [
      "[[64.09238689]\n",
      " [24.13683026]\n",
      " [23.18550748]\n",
      " [34.00680407]\n",
      " [47.44423829]]\n",
      "RMSE: 20.24 MSE: 409.81 MAE: 11.855 R2: 0.33681238558946514\n"
     ]
    },
    {
     "data": {
      "image/png": "[encoded data removed]",
      "text/plain": [
       "<Figure size 432x288 with 1 Axes>"
      ]
     },
     "metadata": {
      "needs_background": "light"
     },
     "output_type": "display_data"
    },
    {
     "name": "stdout",
     "output_type": "stream",
     "text": [
      "[[23.85628304]\n",
      " [21.80743905]\n",
      " [17.68941516]\n",
      " [21.85319487]\n",
      " [19.83993875]]\n",
      "RMSE: 23.62 MSE: 557.68 MAE: 13.293 R2: 0.09752197517318117\n"
     ]
    },
    {
     "data": {
      "image/png": "[encoded data removed]",
      "text/plain": [
       "<Figure size 432x288 with 1 Axes>"
      ]
     },
     "metadata": {
      "needs_background": "light"
     },
     "output_type": "display_data"
    }
   ],
   "source": [
    "regress_and_plot(maxima_df, \"maxima_count\")\n",
    "regress_and_plot(maxima_df, \"candidate_count\")\n",
    "regress_and_plot(maxima_df, \"log_candidate_count\")"
   ]
  },
  {
   "cell_type": "code",
   "execution_count": 43,
   "metadata": {},
   "outputs": [
    {
     "name": "stdout",
     "output_type": "stream",
     "text": [
      "949\n",
      "238\n",
      "Maxima Count, Candidate Count, Log Candidate Count\n",
      "[[ 0.04067064  0.13765858 -0.01502779]]\n",
      "[7.21239985]\n",
      "[[70.40618917]\n",
      " [24.43387456]\n",
      " [25.33745646]\n",
      " [36.86306456]\n",
      " [53.44834202]\n",
      " [38.34846051]\n",
      " [14.46403374]\n",
      " [ 7.45766144]\n",
      " [26.27260457]\n",
      " [78.04973742]]\n",
      "RMSE: 20.35 MSE: 414.02 MAE: 12.172 R2: 0.3300060513334603\n"
     ]
    }
   ],
   "source": [
    "# multiple linear regression\n",
    "\n",
    "from sklearn import linear_model\n",
    "from sklearn.model_selection import train_test_split\n",
    "from sklearn.metrics import mean_squared_error\n",
    "import numpy as np\n",
    "\n",
    "x = zip(maxima_df[\"maxima_count\"], maxima_df[\"candidate_count\"], maxima_df[\"log_candidate_count\"])\n",
    "x = np.array(list(x))\n",
    "y = np.array(maxima_df[\"chapter_count\"]).reshape(-1, 1)\n",
    "x_train, x_test, y_train, y_test = train_test_split(\n",
    "    x, y, test_size=0.2, shuffle=True, random_state=6948050\n",
    ")\n",
    "print(len(x_train))\n",
    "print(len(x_test))\n",
    "# fit\n",
    "model = linear_model.LinearRegression(fit_intercept=True)\n",
    "model.fit(x_train, y_train)\n",
    "print(\"Maxima Count, Candidate Count, Log Candidate Count\")\n",
    "print(model.coef_)\n",
    "print(model.intercept_)\n",
    "# predict\n",
    "y_pred = model.predict(x_test)\n",
    "print(y_pred[:10])\n",
    "\n",
    "print(\n",
    "        \"RMSE:\",\n",
    "        round(mean_squared_error(y_true=y_test, y_pred=y_pred, squared=False), 2),\n",
    "         \"MSE:\",\n",
    "        round(mean_squared_error(y_true=y_test, y_pred=y_pred, squared=True), 2),\n",
    "        \"MAE:\",\n",
    "        round(mean_absolute_error(y_true=y_test, y_pred=y_pred), 3),\n",
    "        \"R2:\",\n",
    "        model.score(x_test, y_test),\n",
    "    )\n"
   ]
  },
  {
   "cell_type": "code",
   "execution_count": 44,
   "metadata": {},
   "outputs": [],
   "source": [
    "# # ONLY FOR INITIAL CREATION\n",
    "\n",
    "# import nltk\n",
    "# from nltk.tokenize import word_tokenize, sent_tokenize\n",
    "# import os\n",
    "# import pandas as pd\n",
    "# import json\n",
    "# from sklearn.model_selection import train_test_split\n",
    "# from tqdm import tqdm\n",
    "\n",
    "# nltk.download(\"punkt\")\n",
    "\n",
    "# df_list = []\n",
    "# corpus_files = os.listdir(\"../corpus/\")\n",
    "# corpus_files.sort()\n",
    "# print(len(corpus_files))\n",
    "# train, _ = train_test_split(\n",
    "#     corpus_files, train_size=0.8, shuffle=True, random_state=6948050\n",
    "# )\n",
    "\n",
    "# for file in train:\n",
    "#     with open(f\"../corpus/{file}\", \"r\", encoding=\"utf8\") as f:\n",
    "#         d = json.load(f)\n",
    "#         df = pd.DataFrame(d)\n",
    "#         df = df.drop(columns=[\"author\", \"webpath\", \"title\"])\n",
    "#         df[\"filepath\"] = df[\"filepath\"].apply(\n",
    "#             lambda x: x.replace(\n",
    "#                 \"/mnt/c/Users/Moritz Lahann/Desktop/STUDIUM/Module IAS/Master's Thesis/gutenberg-edition16/\",\n",
    "#                 \"\",\n",
    "#             )\n",
    "#         )\n",
    "#         df_list.append(df)\n",
    "\n",
    "# df = pd.concat(df_list)\n",
    "# df.head()\n",
    "\n",
    "# grouped_df = df.groupby(by=[\"filepath\"])\n",
    "# books_df_list = []\n",
    "# for name, group in tqdm(grouped_df):\n",
    "#     word_sum = sentence_sum = paragraph_sum = 0\n",
    "#     for chapter in group[\"chapters\"]:\n",
    "#         word_count = sum(\n",
    "#             [len(word_tokenize(p, language=\"german\")) for p in chapter[\"paragraphs\"]]\n",
    "#         )\n",
    "#         word_sum += word_count\n",
    "#         sentence_count = sum(\n",
    "#             [len(sent_tokenize(p, language=\"german\")) for p in chapter[\"paragraphs\"]]\n",
    "#         )\n",
    "#         sentence_sum += sentence_count\n",
    "#         paragraph_count = len(chapter[\"paragraphs\"])\n",
    "#         paragraph_sum += paragraph_count\n",
    "\n",
    "#     books_df_list.append(\n",
    "#         pd.DataFrame(\n",
    "#             {\n",
    "#                 \"paragraph_count\": [paragraph_sum],\n",
    "#                 \"word_count\": [word_sum],\n",
    "#                 \"sentence_count\": [sentence_sum],\n",
    "#                 \"book\": [name],\n",
    "#                 \"chapter_count\": len(group[\"chapters\"]),\n",
    "#             }\n",
    "#         )\n",
    "#     )\n",
    "\n",
    "# stats_df = pd.concat(books_df_list)\n",
    "# stats_df.to_pickle(\"per_chapter_train_split_stats.pkl\")"
   ]
  }
 ],
 "metadata": {
  "kernelspec": {
   "display_name": "msc-thesis",
   "language": "python",
   "name": "python3"
  },
  "language_info": {
   "codemirror_mode": {
    "name": "ipython",
    "version": 3
   },
   "file_extension": ".py",
   "mimetype": "text/x-python",
   "name": "python",
   "nbconvert_exporter": "python",
   "pygments_lexer": "ipython3",
   "version": "3.8.13"
  }
 },
 "nbformat": 4,
 "nbformat_minor": 2
}
