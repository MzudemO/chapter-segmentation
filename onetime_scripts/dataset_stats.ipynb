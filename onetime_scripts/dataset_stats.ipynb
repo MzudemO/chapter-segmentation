{
 "cells": [
  {
   "cell_type": "code",
   "execution_count": 1,
   "metadata": {},
   "outputs": [],
   "source": [
    "from bs4 import BeautifulSoup, Tag\n",
    "import pandas as pd\n",
    "import re\n",
    "import matplotlib.pyplot as plt\n",
    "root_path = \"/mnt/c/Users/Moritz Lahann/Desktop/STUDIUM/Module IAS/Master's Thesis/gutenberg-edition16/info/texte/lesetips.html\"\n",
    "\n",
    "with open(root_path, \"r\", encoding=\"ISO-8859-1\") as f:\n",
    "    soup = BeautifulSoup(f, features=\"lxml\")"
   ]
  },
  {
   "cell_type": "code",
   "execution_count": 2,
   "metadata": {},
   "outputs": [],
   "source": [
    "def non_image_link(tag: Tag) -> bool:\n",
    "    return tag.name == \"a\" and tag.get(\"href\", \"\").endswith(\".html\") and tag.find_all(\"img\") == []"
   ]
  },
  {
   "cell_type": "code",
   "execution_count": 3,
   "metadata": {},
   "outputs": [
    {
     "data": {
      "text/html": [
       "<div>\n",
       "<style scoped>\n",
       "    .dataframe tbody tr th:only-of-type {\n",
       "        vertical-align: middle;\n",
       "    }\n",
       "\n",
       "    .dataframe tbody tr th {\n",
       "        vertical-align: top;\n",
       "    }\n",
       "\n",
       "    .dataframe thead th {\n",
       "        text-align: right;\n",
       "    }\n",
       "</style>\n",
       "<table border=\"1\" class=\"dataframe\">\n",
       "  <thead>\n",
       "    <tr style=\"text-align: right;\">\n",
       "      <th></th>\n",
       "      <th>genre</th>\n",
       "      <th>count</th>\n",
       "    </tr>\n",
       "  </thead>\n",
       "  <tbody>\n",
       "    <tr>\n",
       "      <th>0</th>\n",
       "      <td>Romane, Novellen und Erzählungen</td>\n",
       "      <td>5556</td>\n",
       "    </tr>\n",
       "    <tr>\n",
       "      <th>1</th>\n",
       "      <td>Historische Romane und Erzählungen</td>\n",
       "      <td>338</td>\n",
       "    </tr>\n",
       "    <tr>\n",
       "      <th>2</th>\n",
       "      <td>Anthologien</td>\n",
       "      <td>18</td>\n",
       "    </tr>\n",
       "    <tr>\n",
       "      <th>3</th>\n",
       "      <td>Märchen, Sagen, Legenden</td>\n",
       "      <td>349</td>\n",
       "    </tr>\n",
       "    <tr>\n",
       "      <th>4</th>\n",
       "      <td>Romanhafte Biographien</td>\n",
       "      <td>75</td>\n",
       "    </tr>\n",
       "  </tbody>\n",
       "</table>\n",
       "</div>"
      ],
      "text/plain": [
       "                                genre  count\n",
       "0    Romane, Novellen und Erzählungen   5556\n",
       "1  Historische Romane und Erzählungen    338\n",
       "2                         Anthologien     18\n",
       "3            Märchen, Sagen, Legenden    349\n",
       "4              Romanhafte Biographien     75"
      ]
     },
     "execution_count": 3,
     "metadata": {},
     "output_type": "execute_result"
    }
   ],
   "source": [
    "fiction_stats = []\n",
    "fiction_genre_list = soup.find(\"p\", string=\"Belletristik\").find_next_sibling(\"dl\")\n",
    "fiction_genres = fiction_genre_list.find_all(\"a\")\n",
    "for genre in fiction_genres:\n",
    "    anchor_id = genre[\"href\"].split(\"#\")[-1]\n",
    "    book_list = soup.find(\"a\", id=anchor_id).parent.find_next_sibling(\"dl\")\n",
    "    book_count = len(book_list.find_all(non_image_link))\n",
    "    fiction_stats.append({\"genre\": re.sub(r\"\\s+\", \" \", genre.text), \"count\": book_count})\n",
    "fiction_df = pd.DataFrame(fiction_stats)\n",
    "fiction_df.head()\n"
   ]
  },
  {
   "cell_type": "code",
   "execution_count": 4,
   "metadata": {},
   "outputs": [
    {
     "data": {
      "image/png": "[encoded data removed]",
      "text/plain": [
       "<Figure size 432x288 with 1 Axes>"
      ]
     },
     "metadata": {
      "needs_background": "light"
     },
     "output_type": "display_data"
    }
   ],
   "source": [
    "fiction_df.index = fiction_df[\"genre\"]\n",
    "fiction_df.plot(kind=\"barh\")\n",
    "plt.show()"
   ]
  },
  {
   "cell_type": "code",
   "execution_count": 5,
   "metadata": {},
   "outputs": [
    {
     "data": {
      "text/html": [
       "<div>\n",
       "<style scoped>\n",
       "    .dataframe tbody tr th:only-of-type {\n",
       "        vertical-align: middle;\n",
       "    }\n",
       "\n",
       "    .dataframe tbody tr th {\n",
       "        vertical-align: top;\n",
       "    }\n",
       "\n",
       "    .dataframe thead th {\n",
       "        text-align: right;\n",
       "    }\n",
       "</style>\n",
       "<table border=\"1\" class=\"dataframe\">\n",
       "  <thead>\n",
       "    <tr style=\"text-align: right;\">\n",
       "      <th></th>\n",
       "      <th>genre</th>\n",
       "      <th>count</th>\n",
       "    </tr>\n",
       "  </thead>\n",
       "  <tbody>\n",
       "    <tr>\n",
       "      <th>0</th>\n",
       "      <td>Deutschland</td>\n",
       "      <td>45</td>\n",
       "    </tr>\n",
       "    <tr>\n",
       "      <th>1</th>\n",
       "      <td>Europa</td>\n",
       "      <td>73</td>\n",
       "    </tr>\n",
       "    <tr>\n",
       "      <th>2</th>\n",
       "      <td>Afrika</td>\n",
       "      <td>20</td>\n",
       "    </tr>\n",
       "    <tr>\n",
       "      <th>3</th>\n",
       "      <td>Naher Osten</td>\n",
       "      <td>18</td>\n",
       "    </tr>\n",
       "    <tr>\n",
       "      <th>4</th>\n",
       "      <td>Asien</td>\n",
       "      <td>29</td>\n",
       "    </tr>\n",
       "  </tbody>\n",
       "</table>\n",
       "</div>"
      ],
      "text/plain": [
       "         genre  count\n",
       "0  Deutschland     45\n",
       "1       Europa     73\n",
       "2       Afrika     20\n",
       "3  Naher Osten     18\n",
       "4        Asien     29"
      ]
     },
     "execution_count": 5,
     "metadata": {},
     "output_type": "execute_result"
    }
   ],
   "source": [
    "nonfiction_stats = []\n",
    "nonfiction_genre_list = soup.find(\"p\", string=\"Sachbuch\").find_next_sibling(\"dl\")\n",
    "nonfiction_genres = nonfiction_genre_list.find_all(\"a\")\n",
    "for genre in nonfiction_genres:\n",
    "    anchor_id = genre[\"href\"].split(\"#\")[-1]\n",
    "    book_list = soup.find(\"a\", id=anchor_id).parent.find_next_sibling(\"dl\")\n",
    "    book_count = len(book_list.find_all(non_image_link))\n",
    "    nonfiction_stats.append({\"genre\": re.sub(r\"\\s+\", \" \", genre.text), \"count\": book_count})\n",
    "nonfiction_df = pd.DataFrame(nonfiction_stats)\n",
    "nonfiction_df.head()"
   ]
  },
  {
   "cell_type": "code",
   "execution_count": 6,
   "metadata": {},
   "outputs": [
    {
     "data": {
      "image/png": "[encoded data removed]",
      "text/plain": [
       "<Figure size 432x288 with 1 Axes>"
      ]
     },
     "metadata": {
      "needs_background": "light"
     },
     "output_type": "display_data"
    }
   ],
   "source": [
    "nonfiction_df.index = nonfiction_df[\"genre\"]\n",
    "nonfiction_df.plot(kind=\"barh\")\n",
    "plt.show()"
   ]
  },
  {
   "cell_type": "code",
   "execution_count": 7,
   "metadata": {},
   "outputs": [
    {
     "name": "stdout",
     "output_type": "stream",
     "text": [
      "Total fiction:  9884\n",
      "Total nonfiction:  1657\n"
     ]
    }
   ],
   "source": [
    "print(\"Total fiction: \", fiction_df[\"count\"].sum())\n",
    "print(\"Total nonfiction: \", nonfiction_df[\"count\"].sum())"
   ]
  },
  {
   "cell_type": "code",
   "execution_count": 8,
   "metadata": {},
   "outputs": [
    {
     "name": "stdout",
     "output_type": "stream",
     "text": [
      "7654\n",
      "2230\n"
     ]
    },
    {
     "data": {
      "text/html": [
       "<div>\n",
       "<style scoped>\n",
       "    .dataframe tbody tr th:only-of-type {\n",
       "        vertical-align: middle;\n",
       "    }\n",
       "\n",
       "    .dataframe tbody tr th {\n",
       "        vertical-align: top;\n",
       "    }\n",
       "\n",
       "    .dataframe thead th {\n",
       "        text-align: right;\n",
       "    }\n",
       "</style>\n",
       "<table border=\"1\" class=\"dataframe\">\n",
       "  <thead>\n",
       "    <tr style=\"text-align: right;\">\n",
       "      <th></th>\n",
       "      <th>genre</th>\n",
       "      <th>count</th>\n",
       "    </tr>\n",
       "    <tr>\n",
       "      <th>genre</th>\n",
       "      <th></th>\n",
       "      <th></th>\n",
       "    </tr>\n",
       "  </thead>\n",
       "  <tbody>\n",
       "    <tr>\n",
       "      <th>Dramatik</th>\n",
       "      <td>Dramatik</td>\n",
       "      <td>773</td>\n",
       "    </tr>\n",
       "    <tr>\n",
       "      <th>Lyrik</th>\n",
       "      <td>Lyrik</td>\n",
       "      <td>708</td>\n",
       "    </tr>\n",
       "    <tr>\n",
       "      <th>Essay, Feulleton, Literaturkritik, Interviews</th>\n",
       "      <td>Essay, Feulleton, Literaturkritik, Interviews</td>\n",
       "      <td>368</td>\n",
       "    </tr>\n",
       "    <tr>\n",
       "      <th>Comic, Cartoon</th>\n",
       "      <td>Comic, Cartoon</td>\n",
       "      <td>112</td>\n",
       "    </tr>\n",
       "    <tr>\n",
       "      <th>Briefe, Tagebücher</th>\n",
       "      <td>Briefe, Tagebücher</td>\n",
       "      <td>84</td>\n",
       "    </tr>\n",
       "  </tbody>\n",
       "</table>\n",
       "</div>"
      ],
      "text/plain": [
       "                                                                                       genre  \\\n",
       "genre                                                                                          \n",
       "Dramatik                                                                            Dramatik   \n",
       "Lyrik                                                                                  Lyrik   \n",
       "Essay, Feulleton, Literaturkritik, Interviews  Essay, Feulleton, Literaturkritik, Interviews   \n",
       "Comic, Cartoon                                                                Comic, Cartoon   \n",
       "Briefe, Tagebücher                                                        Briefe, Tagebücher   \n",
       "\n",
       "                                               count  \n",
       "genre                                                 \n",
       "Dramatik                                         773  \n",
       "Lyrik                                            708  \n",
       "Essay, Feulleton, Literaturkritik, Interviews    368  \n",
       "Comic, Cartoon                                   112  \n",
       "Briefe, Tagebücher                                84  "
      ]
     },
     "execution_count": 8,
     "metadata": {},
     "output_type": "execute_result"
    }
   ],
   "source": [
    "genre_list = [\n",
    "    \"Romane, Novellen und Erzählungen\",\n",
    "    \"Historische Romane und Erzählungen\",\n",
    "    \"Anthologien\",\n",
    "    \"Romanhafte Biographien\",\n",
    "    \"Märchen, Sagen, Legenden\",\n",
    "    \"Spannung und Abenteuer\",\n",
    "    \"Krimis, Thriller, Spionage\",\n",
    "    \"Historische Kriminalromane und -fälle\",\n",
    "    \"Science Fiction\",\n",
    "    \"Phantastische Literatur\",\n",
    "    \"Horror\",\n",
    "    \"Humor, Satire\",\n",
    "    \"Kinderbücher bis 11 Jahre\",\n",
    "    \"Kinderbücher ab 12 Jahren\",\n",
    "]\n",
    "allowed_fiction_df = fiction_df.query(\"genre in @genre_list\")\n",
    "removed_fiction_df = fiction_df.query(\"genre not in @genre_list\")\n",
    "print(allowed_fiction_df[\"count\"].sum())\n",
    "print(removed_fiction_df[\"count\"].sum())\n",
    "removed_fiction_df.sort_values(by=\"count\", ascending=False).head()"
   ]
  },
  {
   "cell_type": "code",
   "execution_count": 9,
   "metadata": {},
   "outputs": [
    {
     "name": "stdout",
     "output_type": "stream",
     "text": [
      "                                                                       genre  \\\n",
      "genre                                                                          \n",
      "Romane, Novellen und Erzählungen            Romane, Novellen und Erzählungen   \n",
      "Historische Romane und Erzählungen        Historische Romane und Erzählungen   \n",
      "Anthologien                                                      Anthologien   \n",
      "Märchen, Sagen, Legenden                            Märchen, Sagen, Legenden   \n",
      "Romanhafte Biographien                                Romanhafte Biographien   \n",
      "Spannung und Abenteuer                                Spannung und Abenteuer   \n",
      "Krimis, Thriller, Spionage                        Krimis, Thriller, Spionage   \n",
      "Historische Kriminalromane und -fälle  Historische Kriminalromane und -fälle   \n",
      "Science Fiction                                              Science Fiction   \n",
      "Phantastische Literatur                              Phantastische Literatur   \n",
      "Horror                                                                Horror   \n",
      "Humor, Satire                                                  Humor, Satire   \n",
      "Kinderbücher bis 11 Jahre                          Kinderbücher bis 11 Jahre   \n",
      "Kinderbücher ab 12 Jahren                          Kinderbücher ab 12 Jahren   \n",
      "\n",
      "                                       count  \n",
      "genre                                         \n",
      "Romane, Novellen und Erzählungen        5556  \n",
      "Historische Romane und Erzählungen       338  \n",
      "Anthologien                               18  \n",
      "Märchen, Sagen, Legenden                 349  \n",
      "Romanhafte Biographien                    75  \n",
      "Spannung und Abenteuer                   111  \n",
      "Krimis, Thriller, Spionage               433  \n",
      "Historische Kriminalromane und -fälle     25  \n",
      "Science Fiction                           57  \n",
      "Phantastische Literatur                  118  \n",
      "Horror                                    37  \n",
      "Humor, Satire                            239  \n",
      "Kinderbücher bis 11 Jahre                 40  \n",
      "Kinderbücher ab 12 Jahren                258  \n"
     ]
    }
   ],
   "source": [
    "print(allowed_fiction_df)"
   ]
  },
  {
   "cell_type": "code",
   "execution_count": 10,
   "metadata": {},
   "outputs": [
    {
     "name": "stdout",
     "output_type": "stream",
     "text": [
      "                                                                                       genre  \\\n",
      "genre                                                                                          \n",
      "Briefe, Tagebücher                                                        Briefe, Tagebücher   \n",
      "Essay, Feulleton, Literaturkritik, Interviews  Essay, Feulleton, Literaturkritik, Interviews   \n",
      "Über Literatur                                                                Über Literatur   \n",
      "Aphorismen                                                                        Aphorismen   \n",
      "Lyrik                                                                                  Lyrik   \n",
      "Dramatik                                                                            Dramatik   \n",
      "Zweisprachige Ausgaben                                                Zweisprachige Ausgaben   \n",
      "Comic, Cartoon                                                                Comic, Cartoon   \n",
      "Bilderbücher                                                                    Bilderbücher   \n",
      "Vorlesebücher, Märchen, Sagen, Reime, Lieder    Vorlesebücher, Märchen, Sagen, Reime, Lieder   \n",
      "\n",
      "                                               count  \n",
      "genre                                                 \n",
      "Briefe, Tagebücher                                84  \n",
      "Essay, Feulleton, Literaturkritik, Interviews    368  \n",
      "Über Literatur                                    59  \n",
      "Aphorismen                                        40  \n",
      "Lyrik                                            708  \n",
      "Dramatik                                         773  \n",
      "Zweisprachige Ausgaben                            32  \n",
      "Comic, Cartoon                                   112  \n",
      "Bilderbücher                                      27  \n",
      "Vorlesebücher, Märchen, Sagen, Reime, Lieder      27  \n"
     ]
    }
   ],
   "source": [
    "print(removed_fiction_df)"
   ]
  },
  {
   "cell_type": "code",
   "execution_count": 11,
   "metadata": {},
   "outputs": [],
   "source": [
    "# genre counts according to this notebook | parse script:\n",
    "# Romane, Novellen und Erzählungen        5556  5555\n",
    "# Historische Romane und Erzählungen       338  338\n",
    "# Anthologien                               18  18\n",
    "# Märchen, Sagen, Legenden                 349  349\n",
    "# Romanhafte Biographien                    75  75\n",
    "# Spannung und Abenteuer                   111  111\n",
    "# Krimis, Thriller, Spionage               433  433\n",
    "# Historische Kriminalromane und -fälle     25  25\n",
    "# Science Fiction                           57  57\n",
    "# Phantastische Literatur                  118  118\n",
    "# Horror                                    37  37\n",
    "# Humor, Satire                            239  239\n",
    "# Kinderbücher bis 11 Jahre                 40  40\n",
    "# Kinderbücher ab 12 Jahren                258  258"
   ]
  },
  {
   "cell_type": "code",
   "execution_count": 12,
   "metadata": {},
   "outputs": [
    {
     "name": "stdout",
     "output_type": "stream",
     "text": [
      "0\n",
      "5555\n",
      "338\n",
      "18\n",
      "349\n",
      "75\n",
      "111\n",
      "433\n",
      "25\n",
      "57\n",
      "118\n",
      "37\n",
      "239\n",
      "40\n",
      "258\n"
     ]
    }
   ],
   "source": [
    "list = [\n",
    "0,\n",
    "5555,\n",
    "5893,\n",
    "5911,\n",
    "6260,\n",
    "6335,\n",
    "6446,\n",
    "6879,\n",
    "6904,\n",
    "6961,\n",
    "7079,\n",
    "7116,\n",
    "7355,\n",
    "7395,\n",
    "7653]\n",
    "for idx, e in enumerate(list):\n",
    "    if idx == 0:\n",
    "        print( e)\n",
    "    else:\n",
    "        print( e - list[idx - 1])"
   ]
  }
 ],
 "metadata": {
  "kernelspec": {
   "display_name": "msc-thesis",
   "language": "python",
   "name": "python3"
  },
  "language_info": {
   "codemirror_mode": {
    "name": "ipython",
    "version": 3
   },
   "file_extension": ".py",
   "mimetype": "text/x-python",
   "name": "python",
   "nbconvert_exporter": "python",
   "pygments_lexer": "ipython3",
   "version": "3.8.13"
  }
 },
 "nbformat": 4,
 "nbformat_minor": 2
}
