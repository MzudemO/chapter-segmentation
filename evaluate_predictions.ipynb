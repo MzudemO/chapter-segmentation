{
 "cells": [
  {
   "cell_type": "code",
   "execution_count": 84,
   "metadata": {},
   "outputs": [],
   "source": [
    "import pandas as pd\n",
    "import matplotlib.pyplot as plt\n",
    "import random\n",
    "from sklearn.metrics import f1_score\n",
    "from tqdm import tqdm\n",
    "from utils import plot_book\n"
   ]
  },
  {
   "cell_type": "code",
   "execution_count": 85,
   "metadata": {},
   "outputs": [
    {
     "name": "stdout",
     "output_type": "stream",
     "text": [
      "1016881\n",
      "16055\n"
     ]
    },
    {
     "data": {
      "text/html": [
       "<div>\n",
       "<style scoped>\n",
       "    .dataframe tbody tr th:only-of-type {\n",
       "        vertical-align: middle;\n",
       "    }\n",
       "\n",
       "    .dataframe tbody tr th {\n",
       "        vertical-align: top;\n",
       "    }\n",
       "\n",
       "    .dataframe thead th {\n",
       "        text-align: right;\n",
       "    }\n",
       "</style>\n",
       "<table border=\"1\" class=\"dataframe\">\n",
       "  <thead>\n",
       "    <tr style=\"text-align: right;\">\n",
       "      <th></th>\n",
       "      <th>book</th>\n",
       "      <th>chapter</th>\n",
       "      <th>paragraph</th>\n",
       "      <th>label</th>\n",
       "      <th>logit_0</th>\n",
       "      <th>logit_1</th>\n",
       "    </tr>\n",
       "  </thead>\n",
       "  <tbody>\n",
       "    <tr>\n",
       "      <th>0</th>\n",
       "      <td>3164.json</td>\n",
       "      <td>0</td>\n",
       "      <td>1</td>\n",
       "      <td>1</td>\n",
       "      <td>0.931343</td>\n",
       "      <td>0.391603</td>\n",
       "    </tr>\n",
       "    <tr>\n",
       "      <th>1</th>\n",
       "      <td>3164.json</td>\n",
       "      <td>0</td>\n",
       "      <td>2</td>\n",
       "      <td>1</td>\n",
       "      <td>0.881752</td>\n",
       "      <td>0.478187</td>\n",
       "    </tr>\n",
       "    <tr>\n",
       "      <th>2</th>\n",
       "      <td>3164.json</td>\n",
       "      <td>0</td>\n",
       "      <td>3</td>\n",
       "      <td>1</td>\n",
       "      <td>0.671587</td>\n",
       "      <td>0.124813</td>\n",
       "    </tr>\n",
       "    <tr>\n",
       "      <th>3</th>\n",
       "      <td>3164.json</td>\n",
       "      <td>0</td>\n",
       "      <td>4</td>\n",
       "      <td>1</td>\n",
       "      <td>0.758177</td>\n",
       "      <td>0.014503</td>\n",
       "    </tr>\n",
       "    <tr>\n",
       "      <th>4</th>\n",
       "      <td>3164.json</td>\n",
       "      <td>0</td>\n",
       "      <td>5</td>\n",
       "      <td>1</td>\n",
       "      <td>0.186959</td>\n",
       "      <td>0.500125</td>\n",
       "    </tr>\n",
       "    <tr>\n",
       "      <th>...</th>\n",
       "      <td>...</td>\n",
       "      <td>...</td>\n",
       "      <td>...</td>\n",
       "      <td>...</td>\n",
       "      <td>...</td>\n",
       "      <td>...</td>\n",
       "    </tr>\n",
       "    <tr>\n",
       "      <th>95</th>\n",
       "      <td>3164.json</td>\n",
       "      <td>0</td>\n",
       "      <td>96</td>\n",
       "      <td>1</td>\n",
       "      <td>0.372207</td>\n",
       "      <td>0.865086</td>\n",
       "    </tr>\n",
       "    <tr>\n",
       "      <th>96</th>\n",
       "      <td>3164.json</td>\n",
       "      <td>0</td>\n",
       "      <td>97</td>\n",
       "      <td>1</td>\n",
       "      <td>0.215018</td>\n",
       "      <td>0.128415</td>\n",
       "    </tr>\n",
       "    <tr>\n",
       "      <th>97</th>\n",
       "      <td>3164.json</td>\n",
       "      <td>0</td>\n",
       "      <td>98</td>\n",
       "      <td>1</td>\n",
       "      <td>0.273454</td>\n",
       "      <td>0.259642</td>\n",
       "    </tr>\n",
       "    <tr>\n",
       "      <th>98</th>\n",
       "      <td>3164.json</td>\n",
       "      <td>0</td>\n",
       "      <td>99</td>\n",
       "      <td>1</td>\n",
       "      <td>0.489625</td>\n",
       "      <td>0.535482</td>\n",
       "    </tr>\n",
       "    <tr>\n",
       "      <th>99</th>\n",
       "      <td>3164.json</td>\n",
       "      <td>0</td>\n",
       "      <td>100</td>\n",
       "      <td>1</td>\n",
       "      <td>0.050783</td>\n",
       "      <td>0.852319</td>\n",
       "    </tr>\n",
       "  </tbody>\n",
       "</table>\n",
       "<p>100 rows × 6 columns</p>\n",
       "</div>"
      ],
      "text/plain": [
       "         book  chapter  paragraph  label   logit_0   logit_1\n",
       "0   3164.json        0          1      1  0.931343  0.391603\n",
       "1   3164.json        0          2      1  0.881752  0.478187\n",
       "2   3164.json        0          3      1  0.671587  0.124813\n",
       "3   3164.json        0          4      1  0.758177  0.014503\n",
       "4   3164.json        0          5      1  0.186959  0.500125\n",
       "..        ...      ...        ...    ...       ...       ...\n",
       "95  3164.json        0         96      1  0.372207  0.865086\n",
       "96  3164.json        0         97      1  0.215018  0.128415\n",
       "97  3164.json        0         98      1  0.273454  0.259642\n",
       "98  3164.json        0         99      1  0.489625  0.535482\n",
       "99  3164.json        0        100      1  0.050783  0.852319\n",
       "\n",
       "[100 rows x 6 columns]"
      ]
     },
     "execution_count": 85,
     "metadata": {},
     "output_type": "execute_result"
    }
   ],
   "source": [
    "df = pd.read_pickle(\"./results/results_random.pkl\")\n",
    "print(len(df[df[\"label\"] == 1]))\n",
    "print(len(df[df[\"label\"] == 0]))\n",
    "df[:100]\n"
   ]
  },
  {
   "cell_type": "code",
   "execution_count": 3,
   "metadata": {},
   "outputs": [
    {
     "name": "stdout",
     "output_type": "stream",
     "text": [
      "0.8042236024844721\n"
     ]
    }
   ],
   "source": [
    "def f1(precision, recall):\n",
    "    return 2*((precision*recall)/(precision+recall))\n",
    "\n",
    "print(f1(0.83, 0.78))"
   ]
  },
  {
   "cell_type": "code",
   "execution_count": 86,
   "metadata": {},
   "outputs": [
    {
     "name": "stdout",
     "output_type": "stream",
     "text": [
      "0.4999237656593323\n"
     ]
    }
   ],
   "source": [
    "print(df[\"logit_0\"].mean())"
   ]
  },
  {
   "cell_type": "code",
   "execution_count": 87,
   "metadata": {},
   "outputs": [
    {
     "name": "stdout",
     "output_type": "stream",
     "text": [
      "45.0\n"
     ]
    }
   ],
   "source": [
    "print(df[\"paragraph\"].median())"
   ]
  },
  {
   "cell_type": "code",
   "execution_count": 88,
   "metadata": {},
   "outputs": [
    {
     "data": {
      "text/plain": [
       "1.5788474757616675"
      ]
     },
     "execution_count": 88,
     "metadata": {},
     "output_type": "execute_result"
    }
   ],
   "source": [
    "16055 / 1016881 * 100"
   ]
  },
  {
   "cell_type": "code",
   "execution_count": 89,
   "metadata": {},
   "outputs": [
    {
     "data": {
      "image/png": "[encoded data removed]",
      "text/plain": [
       "<Figure size 1440x360 with 1 Axes>"
      ]
     },
     "metadata": {
      "needs_background": "light"
     },
     "output_type": "display_data"
    }
   ],
   "source": [
    "plot_book(df)"
   ]
  },
  {
   "cell_type": "code",
   "execution_count": 90,
   "metadata": {},
   "outputs": [],
   "source": [
    "def add_predictions(df: pd.DataFrame) -> pd.DataFrame:\n",
    "    df = df.copy()\n",
    "    df[\"prediction\"] = pd.Series([True for _ in range(len(df))])\n",
    "    for book in tqdm(df[\"book\"].unique()):\n",
    "        book_df = df[df[\"book\"] == book]\n",
    "        predicted_chapters = book_df.sort_values(\"logit_0\", ascending=False)[:len(book_df[book_df[\"label\"] == 0])]\n",
    "        for row in predicted_chapters.iterrows():\n",
    "            df.loc[row[0], \"prediction\"] = False # chapter break is class 0\n",
    "\n",
    "    return df\n",
    "\n",
    "def calc_f1_score(df: pd.DataFrame) -> float:\n",
    "    # class 0 (chapter break) is relevant for us\n",
    "    return f1_score(df[\"label\"].replace([1, 0], value=[False, True]), df[\"prediction\"].replace([True, False], value=[False, True]))\n",
    "\n",
    "def calc_windowdiff(df: pd.DataFrame) -> int:\n",
    "    # adapted from nltk.metric.windowdiff\n",
    "    wd = 0\n",
    "    # chaptercaptor: k is set to half of the average true segment size\n",
    "    k = round(len(df) / len(df[df[\"label\"] == 0] * 2))\n",
    "    for i in tqdm(range(len(df) - k)):\n",
    "        gt = len(df.iloc[i:i+k+1].query(\"label == 0\"))\n",
    "        p = len(df.iloc[i:i+k+1].query(\"prediction == False\"))\n",
    "        wd += abs(gt - p)\n",
    "    return wd / (len(df) - k)\n",
    "\n",
    "def calc_pk(df: pd.DataFrame) -> float:\n",
    "    # adapted from nltk.metrics\n",
    "    err = 0\n",
    "    # chaptercaptor: k is set to half of the average true segment size\n",
    "    k = round(len(df) / len(df[df[\"label\"] == 0] * 2))\n",
    "    for i in tqdm(range(len(df) - k + 1)):\n",
    "        r = len(df.iloc[i:i+k].query(\"label == 0\"))\n",
    "        h = len(df.iloc[i:i+k].query(\"prediction == False\"))\n",
    "        if r != h:\n",
    "            err += 1\n",
    "    return err / (len(df) - k + 1)\n",
    "\n",
    "def calc_pk_wd(df: pd.DataFrame) -> float:\n",
    "    wd = pk = 0\n",
    "    k = round(len(df) / len(df[df[\"label\"] == 0] * 2))\n",
    "    for i in tqdm(range(len(df) - k)):\n",
    "        gt = len(df.iloc[i:i+k+1].query(\"label == 0\"))\n",
    "        p = len(df.iloc[i:i+k+1].query(\"prediction == False\"))\n",
    "        wd += abs(gt - p)\n",
    "        if gt != p:\n",
    "            pk += 1\n",
    "\n",
    "    return pk / (len(df) - k), wd / (len(df) - k)\n",
    "        "
   ]
  },
  {
   "cell_type": "code",
   "execution_count": 91,
   "metadata": {},
   "outputs": [
    {
     "name": "stderr",
     "output_type": "stream",
     "text": [
      "100%|██████████| 799/799 [01:05<00:00, 12.25it/s]\n"
     ]
    },
    {
     "data": {
      "text/html": [
       "<div>\n",
       "<style scoped>\n",
       "    .dataframe tbody tr th:only-of-type {\n",
       "        vertical-align: middle;\n",
       "    }\n",
       "\n",
       "    .dataframe tbody tr th {\n",
       "        vertical-align: top;\n",
       "    }\n",
       "\n",
       "    .dataframe thead th {\n",
       "        text-align: right;\n",
       "    }\n",
       "</style>\n",
       "<table border=\"1\" class=\"dataframe\">\n",
       "  <thead>\n",
       "    <tr style=\"text-align: right;\">\n",
       "      <th></th>\n",
       "      <th>book</th>\n",
       "      <th>chapter</th>\n",
       "      <th>paragraph</th>\n",
       "      <th>label</th>\n",
       "      <th>logit_0</th>\n",
       "      <th>logit_1</th>\n",
       "      <th>prediction</th>\n",
       "    </tr>\n",
       "  </thead>\n",
       "  <tbody>\n",
       "    <tr>\n",
       "      <th>6</th>\n",
       "      <td>3164.json</td>\n",
       "      <td>0</td>\n",
       "      <td>7</td>\n",
       "      <td>1</td>\n",
       "      <td>0.997852</td>\n",
       "      <td>0.469199</td>\n",
       "      <td>False</td>\n",
       "    </tr>\n",
       "    <tr>\n",
       "      <th>116</th>\n",
       "      <td>3164.json</td>\n",
       "      <td>1</td>\n",
       "      <td>16</td>\n",
       "      <td>1</td>\n",
       "      <td>0.997513</td>\n",
       "      <td>0.805339</td>\n",
       "      <td>False</td>\n",
       "    </tr>\n",
       "    <tr>\n",
       "      <th>376</th>\n",
       "      <td>3164.json</td>\n",
       "      <td>2</td>\n",
       "      <td>35</td>\n",
       "      <td>1</td>\n",
       "      <td>0.995709</td>\n",
       "      <td>0.919337</td>\n",
       "      <td>False</td>\n",
       "    </tr>\n",
       "    <tr>\n",
       "      <th>391</th>\n",
       "      <td>3164.json</td>\n",
       "      <td>2</td>\n",
       "      <td>50</td>\n",
       "      <td>1</td>\n",
       "      <td>0.995082</td>\n",
       "      <td>0.927822</td>\n",
       "      <td>False</td>\n",
       "    </tr>\n",
       "    <tr>\n",
       "      <th>395</th>\n",
       "      <td>3164.json</td>\n",
       "      <td>2</td>\n",
       "      <td>54</td>\n",
       "      <td>1</td>\n",
       "      <td>0.995789</td>\n",
       "      <td>0.976781</td>\n",
       "      <td>False</td>\n",
       "    </tr>\n",
       "    <tr>\n",
       "      <th>475</th>\n",
       "      <td>3164.json</td>\n",
       "      <td>3</td>\n",
       "      <td>2</td>\n",
       "      <td>1</td>\n",
       "      <td>0.995203</td>\n",
       "      <td>0.163614</td>\n",
       "      <td>False</td>\n",
       "    </tr>\n",
       "    <tr>\n",
       "      <th>948</th>\n",
       "      <td>3164.json</td>\n",
       "      <td>8</td>\n",
       "      <td>126</td>\n",
       "      <td>1</td>\n",
       "      <td>0.995350</td>\n",
       "      <td>0.520243</td>\n",
       "      <td>False</td>\n",
       "    </tr>\n",
       "    <tr>\n",
       "      <th>1003</th>\n",
       "      <td>3164.json</td>\n",
       "      <td>9</td>\n",
       "      <td>20</td>\n",
       "      <td>1</td>\n",
       "      <td>0.994795</td>\n",
       "      <td>0.948703</td>\n",
       "      <td>False</td>\n",
       "    </tr>\n",
       "    <tr>\n",
       "      <th>1061</th>\n",
       "      <td>3164.json</td>\n",
       "      <td>10</td>\n",
       "      <td>10</td>\n",
       "      <td>1</td>\n",
       "      <td>0.998204</td>\n",
       "      <td>0.985340</td>\n",
       "      <td>False</td>\n",
       "    </tr>\n",
       "    <tr>\n",
       "      <th>1156</th>\n",
       "      <td>3164.json</td>\n",
       "      <td>11</td>\n",
       "      <td>55</td>\n",
       "      <td>1</td>\n",
       "      <td>0.994755</td>\n",
       "      <td>0.222782</td>\n",
       "      <td>False</td>\n",
       "    </tr>\n",
       "  </tbody>\n",
       "</table>\n",
       "</div>"
      ],
      "text/plain": [
       "           book  chapter  paragraph  label   logit_0   logit_1  prediction\n",
       "6     3164.json        0          7      1  0.997852  0.469199       False\n",
       "116   3164.json        1         16      1  0.997513  0.805339       False\n",
       "376   3164.json        2         35      1  0.995709  0.919337       False\n",
       "391   3164.json        2         50      1  0.995082  0.927822       False\n",
       "395   3164.json        2         54      1  0.995789  0.976781       False\n",
       "475   3164.json        3          2      1  0.995203  0.163614       False\n",
       "948   3164.json        8        126      1  0.995350  0.520243       False\n",
       "1003  3164.json        9         20      1  0.994795  0.948703       False\n",
       "1061  3164.json       10         10      1  0.998204  0.985340       False\n",
       "1156  3164.json       11         55      1  0.994755  0.222782       False"
      ]
     },
     "execution_count": 91,
     "metadata": {},
     "output_type": "execute_result"
    }
   ],
   "source": [
    "pred_df = add_predictions(df)\n",
    "pred_df[pred_df[\"prediction\"] == False][:10]\n"
   ]
  },
  {
   "cell_type": "code",
   "execution_count": 92,
   "metadata": {},
   "outputs": [
    {
     "data": {
      "text/html": [
       "<div>\n",
       "<style scoped>\n",
       "    .dataframe tbody tr th:only-of-type {\n",
       "        vertical-align: middle;\n",
       "    }\n",
       "\n",
       "    .dataframe tbody tr th {\n",
       "        vertical-align: top;\n",
       "    }\n",
       "\n",
       "    .dataframe thead th {\n",
       "        text-align: right;\n",
       "    }\n",
       "</style>\n",
       "<table border=\"1\" class=\"dataframe\">\n",
       "  <thead>\n",
       "    <tr style=\"text-align: right;\">\n",
       "      <th></th>\n",
       "      <th>book</th>\n",
       "      <th>chapter</th>\n",
       "      <th>paragraph</th>\n",
       "      <th>label</th>\n",
       "      <th>logit_0</th>\n",
       "      <th>logit_1</th>\n",
       "      <th>prediction</th>\n",
       "    </tr>\n",
       "  </thead>\n",
       "  <tbody>\n",
       "    <tr>\n",
       "      <th>100</th>\n",
       "      <td>3164.json</td>\n",
       "      <td>1</td>\n",
       "      <td>0</td>\n",
       "      <td>0</td>\n",
       "      <td>0.762920</td>\n",
       "      <td>0.465485</td>\n",
       "      <td>True</td>\n",
       "    </tr>\n",
       "    <tr>\n",
       "      <th>341</th>\n",
       "      <td>3164.json</td>\n",
       "      <td>2</td>\n",
       "      <td>0</td>\n",
       "      <td>0</td>\n",
       "      <td>0.072671</td>\n",
       "      <td>0.360470</td>\n",
       "      <td>True</td>\n",
       "    </tr>\n",
       "    <tr>\n",
       "      <th>473</th>\n",
       "      <td>3164.json</td>\n",
       "      <td>3</td>\n",
       "      <td>0</td>\n",
       "      <td>0</td>\n",
       "      <td>0.374525</td>\n",
       "      <td>0.461391</td>\n",
       "      <td>True</td>\n",
       "    </tr>\n",
       "    <tr>\n",
       "      <th>534</th>\n",
       "      <td>3164.json</td>\n",
       "      <td>4</td>\n",
       "      <td>0</td>\n",
       "      <td>0</td>\n",
       "      <td>0.323340</td>\n",
       "      <td>0.083531</td>\n",
       "      <td>True</td>\n",
       "    </tr>\n",
       "    <tr>\n",
       "      <th>566</th>\n",
       "      <td>3164.json</td>\n",
       "      <td>5</td>\n",
       "      <td>0</td>\n",
       "      <td>0</td>\n",
       "      <td>0.752490</td>\n",
       "      <td>0.075424</td>\n",
       "      <td>True</td>\n",
       "    </tr>\n",
       "    <tr>\n",
       "      <th>650</th>\n",
       "      <td>3164.json</td>\n",
       "      <td>6</td>\n",
       "      <td>0</td>\n",
       "      <td>0</td>\n",
       "      <td>0.453375</td>\n",
       "      <td>0.232250</td>\n",
       "      <td>True</td>\n",
       "    </tr>\n",
       "    <tr>\n",
       "      <th>775</th>\n",
       "      <td>3164.json</td>\n",
       "      <td>7</td>\n",
       "      <td>0</td>\n",
       "      <td>0</td>\n",
       "      <td>0.111246</td>\n",
       "      <td>0.253227</td>\n",
       "      <td>True</td>\n",
       "    </tr>\n",
       "    <tr>\n",
       "      <th>822</th>\n",
       "      <td>3164.json</td>\n",
       "      <td>8</td>\n",
       "      <td>0</td>\n",
       "      <td>0</td>\n",
       "      <td>0.708195</td>\n",
       "      <td>0.217994</td>\n",
       "      <td>True</td>\n",
       "    </tr>\n",
       "    <tr>\n",
       "      <th>983</th>\n",
       "      <td>3164.json</td>\n",
       "      <td>9</td>\n",
       "      <td>0</td>\n",
       "      <td>0</td>\n",
       "      <td>0.020272</td>\n",
       "      <td>0.948459</td>\n",
       "      <td>True</td>\n",
       "    </tr>\n",
       "    <tr>\n",
       "      <th>1051</th>\n",
       "      <td>3164.json</td>\n",
       "      <td>10</td>\n",
       "      <td>0</td>\n",
       "      <td>0</td>\n",
       "      <td>0.376260</td>\n",
       "      <td>0.756656</td>\n",
       "      <td>True</td>\n",
       "    </tr>\n",
       "  </tbody>\n",
       "</table>\n",
       "</div>"
      ],
      "text/plain": [
       "           book  chapter  paragraph  label   logit_0   logit_1  prediction\n",
       "100   3164.json        1          0      0  0.762920  0.465485        True\n",
       "341   3164.json        2          0      0  0.072671  0.360470        True\n",
       "473   3164.json        3          0      0  0.374525  0.461391        True\n",
       "534   3164.json        4          0      0  0.323340  0.083531        True\n",
       "566   3164.json        5          0      0  0.752490  0.075424        True\n",
       "650   3164.json        6          0      0  0.453375  0.232250        True\n",
       "775   3164.json        7          0      0  0.111246  0.253227        True\n",
       "822   3164.json        8          0      0  0.708195  0.217994        True\n",
       "983   3164.json        9          0      0  0.020272  0.948459        True\n",
       "1051  3164.json       10          0      0  0.376260  0.756656        True"
      ]
     },
     "execution_count": 92,
     "metadata": {},
     "output_type": "execute_result"
    }
   ],
   "source": [
    "pred_df[pred_df[\"label\"] == 0][:10]"
   ]
  },
  {
   "cell_type": "code",
   "execution_count": 93,
   "metadata": {},
   "outputs": [
    {
     "name": "stdout",
     "output_type": "stream",
     "text": [
      "1094\n",
      "14961\n",
      "14961\n",
      "0.06814076611647461\n",
      "0.06814076611647461\n"
     ]
    }
   ],
   "source": [
    "true_positive = pred_df.query(\"prediction == False and label == 0\")\n",
    "print(len(true_positive))\n",
    "false_positive = pred_df.query(\"prediction == False and label == 1\")\n",
    "print(len(false_positive))\n",
    "false_negative = pred_df.query(\"prediction == True and label == 0\")\n",
    "print(len(false_negative))\n",
    "tp = len(true_positive)\n",
    "fp = len(false_positive)\n",
    "fn = len(false_negative)\n",
    "print((2*tp) / (2*tp + fp + fn))\n",
    "precision = tp / (tp + fp)\n",
    "recall = tp / (tp + fn)\n",
    "print(2 * (precision * recall) / (precision + recall))"
   ]
  },
  {
   "cell_type": "code",
   "execution_count": 94,
   "metadata": {},
   "outputs": [
    {
     "name": "stdout",
     "output_type": "stream",
     "text": [
      "0.06814076611647461\n"
     ]
    }
   ],
   "source": [
    "print(calc_f1_score(pred_df))"
   ]
  },
  {
   "cell_type": "code",
   "execution_count": 95,
   "metadata": {},
   "outputs": [
    {
     "name": "stdout",
     "output_type": "stream",
     "text": [
      "0.06814076611647461\n"
     ]
    },
    {
     "name": "stderr",
     "output_type": "stream",
     "text": [
      "100%|██████████| 1032872/1032872 [34:40<00:00, 496.55it/s]"
     ]
    },
    {
     "name": "stdout",
     "output_type": "stream",
     "text": [
      "0.5624656298166666\n",
      "0.7778272622357852\n"
     ]
    },
    {
     "name": "stderr",
     "output_type": "stream",
     "text": [
      "\n"
     ]
    }
   ],
   "source": [
    "print(calc_f1_score(pred_df))\n",
    "pk, wd = calc_pk_wd(pred_df)\n",
    "print(pk)\n",
    "print(wd)"
   ]
  },
  {
   "cell_type": "code",
   "execution_count": 96,
   "metadata": {},
   "outputs": [
    {
     "data": {
      "text/plain": [
       "799"
      ]
     },
     "execution_count": 96,
     "metadata": {},
     "output_type": "execute_result"
    }
   ],
   "source": [
    "len(df[\"book\"].unique())"
   ]
  },
  {
   "cell_type": "code",
   "execution_count": 97,
   "metadata": {},
   "outputs": [
    {
     "data": {
      "text/plain": [
       "0          1\n",
       "1          1\n",
       "2          1\n",
       "3          1\n",
       "4          1\n",
       "          ..\n",
       "1032931    1\n",
       "1032932    1\n",
       "1032933    1\n",
       "1032934    1\n",
       "1032935    1\n",
       "Name: label, Length: 1032936, dtype: int64"
      ]
     },
     "execution_count": 97,
     "metadata": {},
     "output_type": "execute_result"
    }
   ],
   "source": [
    "test_df = df.copy()\n",
    "test_df[\"label\"]"
   ]
  }
 ],
 "metadata": {
  "kernelspec": {
   "display_name": "msc-thesis",
   "language": "python",
   "name": "python3"
  },
  "language_info": {
   "codemirror_mode": {
    "name": "ipython",
    "version": 3
   },
   "file_extension": ".py",
   "mimetype": "text/x-python",
   "name": "python",
   "nbconvert_exporter": "python",
   "pygments_lexer": "ipython3",
   "version": "3.8.13"
  },
  "orig_nbformat": 4
 },
 "nbformat": 4,
 "nbformat_minor": 2
}
